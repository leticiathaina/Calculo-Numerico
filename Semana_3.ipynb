{
 "cells": [
  {
   "attachments": {},
   "cell_type": "markdown",
   "metadata": {},
   "source": [
    "# Erros"
   ]
  },
  {
   "attachments": {},
   "cell_type": "markdown",
   "metadata": {},
   "source": [
    "Sabemos que a representação de um número pode gerar erros pois estes não são representados exatamente numa máquina. Por exemplo, dado um número $x$, digamos que sua representação é dada por $\\overline{x}$. Logo, podemos ter uma diferença representada por $E_A (x)$, ie, \n",
    "\n",
    "\n",
    "$$E_A(x)=x-\\overline{x}.$$\n",
    "\n",
    "A expressão acima é denominada erro absoluto. Naturalmente, temos razões para defini-lo. Quando representamos um número no sistema de ponto flutuante temos erros. Se estes números estão mal representados e são operados devemos tentar estimar o quão distante o número resultante ficou do que se esperava, ou seja, como o erro se propaga. \n",
    "\n",
    "Contudo, uma observação é pertinente. Nas situações práticas temos o valor representado mas não o correto. Logo, não podemos aplicar a fórmula acima. O que fazemos, de fato, é considerar limitantes para estes erros e todo nosso estudo passa a ser direcionado por estimativas. \n",
    "\n",
    "Por exemplo, não sabemos qual é o valor exato de $\\pi$ mas sabemos que $\\pi \\in (3.14,3.15)$. Logo, um limitante para o erro absoluto é dado por 0.01, ie, $|E_A(\\pi)|< 0.01$.\n",
    "\n",
    "Uma questão que também deve ser feita neste ponto de nossa discussão é a seguinte. Suponha que $\\overline{x}=2112.9$ e $\\overline{y}=5.3$ com $|E_A(x)|<0.1$ e $|E_A(y)|<0.1$, respectivamente. Sabemos que $x\\in (2112.8,2113)$ e $y\\in (5.2,5.4)$. Neste caso, podemos dizer que os números são representados com mesma precisão?\n",
    "\n",
    "Bem, intuitivamente, podemos perceber que $\\overline{x}$ representa melhor. A justificativa está na ordem de grandeza dos fatores envolvidos. Logo, uma forma mais sensata de analisar o erro é considerar o erro relativo, cuja fórmula é dada a seguir.\n",
    "\n",
    "\n",
    " $E_{R}(x)=\\dfrac{x-\\overline{x}}{\\overline{x}} $. \n",
    "\n",
    "<b>Atividade.</b> Analise o erro relativo na representação de $x$ e $y$ dadas anteriormente.\n",
    "    "
   ]
  },
  {
   "attachments": {},
   "cell_type": "markdown",
   "metadata": {},
   "source": [
    "# Arredondamento e truncamento"
   ]
  },
  {
   "attachments": {},
   "cell_type": "markdown",
   "metadata": {},
   "source": [
    "Vejamos as definições formais de arredondamento e truncamento e como obtemos limitantes para erros inerentes a estes processos.\n",
    "\n",
    "Por simplicidade vamos supor que estamos trabalhando num sistema decimal de ponto flutuante com $t$ dígitos. Neste caso, podemos supor que um número $x$ neste sistema pode ser representado da seguinte forma.\n",
    "\n",
    "$$x=f_x \\times 10^e +g_x \\times 10^{e-t},$$\n",
    "\n",
    "onde $0.1 \\leq f_x<1 $ e $0\\leq g_x <1$. \n",
    "\n",
    "Por exemplo, se $t=4$ e $x=1.2314$ temos:\n",
    "\n",
    "$$x=0.1231 \\times 10^1 + 0.4 \\times 10^{-3}$$\n",
    "\n",
    "Quando realizamos um truncamento, devemos eliminar o termo $g_x$. Assim, o representante resultade de $x$ é dado por $\\overline{x}=f_x\\times 10^e$. Ao estabelecermos um limitante para os erros absolutos e relativos chegamos à seguinte expressão:\n",
    "\n",
    "$$|E_A(x)|<10^{e-t}$$\n",
    "\n",
    "$$|E_R(x)|<10^{-t+1}$$\n",
    "\n",
    "(Prove as desigualdades!)\n",
    "\n",
    "\n",
    "No arredondamento, modificamos o valor de $f_x$ em função do valor de $g_x$. Mais específicamente, temos:\n",
    "\n",
    "$$\\overline{x}= \\left\\{ \\begin{array}{cc} \n",
    "f_x \\times 10^e, \\text{ se }|g_x|<0.5 \\\\\n",
    "f_x \\times 10^e + 10^{e-t}, \\text{ se }g_x\\geq 0.5\n",
    "\\end{array}\\right.$$\n",
    "\n",
    "Donde segue (prove) que \n",
    "\n",
    "$$|E_A(x)|\\leq \\frac{1}{2}\\times 10^{e-t}$$\n",
    "e\n",
    "$$|E_R(x)|<\\frac{1}{2}\\times 10^{-t+1}$$\n"
   ]
  },
  {
   "attachments": {},
   "cell_type": "markdown",
   "metadata": {},
   "source": [
    "# Análise dos erros em operações"
   ]
  },
  {
   "attachments": {},
   "cell_type": "markdown",
   "metadata": {},
   "source": [
    "Provamos em sala de aula as propriedades de propagação com relação à adição e a multiplicação. Dessa forma, fica como atividade demonstrar os demais items. Observe que quando demonstramos estas propriedades estamos assumindo que as parcelas envolvidas tem erros, mas que o resultado das operações com seus representantes podem ser representados no sistema. Por exemplo, se $\\overline{x}$ e $\\overline{y}$ são os representantes de $x$ e $y$ respectivamente, então será verdadeiro (nesta suposição) que $\\overline{x}+\\overline{y}$ é representado exatamente no sistema de ponto flutuante. Faremos isso para simplificar nossa análise. Contudo, é importante observar que, numa situação mais rigorosa, $\\overline{x}+\\overline{y}$ pode demandar um arredondamento ou truncamento para ser presentado exatamento em nosso sistema. \n",
    "\n",
    "<b>Adição:</b> $$E_A(x+y)=E_A(x)+E_A(y)$$\n",
    "$$E_R(x+y)=E_R(x)\\dfrac{\\overline{x}}{\\overline{x}+\\overline{y}}+E_R(y)\\dfrac{\\overline{y}}{\\overline{x}+\\overline{y}}$$\n",
    "\n",
    "<b>Subtração:</b>$$E_A(x-y)=E_A(x)-E_A(y)$$\n",
    "$$E_R(x-y)=E_R(x)\\dfrac{\\overline{x}}{\\overline{x}-\\overline{y}}-E_R(y)\\dfrac{\\overline{y}}{\\overline{x}-\\overline{y}}$$\n",
    "\n",
    "<b>Multiplicação:</b>$$E_A(xy)\\approx \\overline{x}E_A(y) +\\overline{y}E_A(x)$$\n",
    "$$E_R(xy)\\approx E_R(x)+E_R(y)$$\n",
    "\n",
    "<b>Divisão: </b>$$E_A(\\dfrac{x}{y})\\approx \\dfrac{\\overline{y}E_A(x) -\\overline{x}E_A(y)}{\\overline{y}^2}$$\n",
    "$$E_R(\\dfrac{x}{y})\\approx E_R(x)-E_R(y)$$\n"
   ]
  },
  {
   "attachments": {},
   "cell_type": "markdown",
   "metadata": {},
   "source": [
    "<b>Obs. </b> Procure em nossa referência principal exemplos e exercícios que utilizam erros de arredondamentos de forma completa em operações, ie, se considerarmos a soma $\\overline{x}+\\overline{y}$ devemos assumir que será necessário realizar o arredondamento e portanto, a análise será mais completa. "
   ]
  },
  {
   "attachments": {},
   "cell_type": "markdown",
   "metadata": {},
   "source": [
    "# Atividades de programação em Linguagem Julia"
   ]
  },
  {
   "attachments": {},
   "cell_type": "markdown",
   "metadata": {},
   "source": [
    "Na aula passada discutimos vários aspectos sobre criação de funções em liguagem Julia. Hoje iremos tratar de laços de repetição. Basicamente, a utilidade dos laços de repetição é permitir a reprodução de um certo número de vezes um bloco de instruções. Este bloco pode conter uma ou várias instruções, incluindo um novo bloco de repetição de instruções. Iniciaremos tratando do laço `for`. Este tipo de laço deve ser utilizado quando sabemos previamente o número de repetições que devemos utilizar ou ainda o limitante de vezes. A estrutura básica do laço `for`, que consiste em uma variável de controle e uma atualização da variável de controle."
   ]
  },
  {
   "cell_type": "code",
   "execution_count": 4,
   "metadata": {},
   "outputs": [
    {
     "name": "stdout",
     "output_type": "stream",
     "text": [
      "Olá mundo!\n",
      "Olá mundo!\n",
      "Olá mundo!\n",
      "Olá mundo!\n",
      "Olá mundo!\n",
      "Olá mundo!\n",
      "Olá mundo!\n",
      "Olá mundo!\n",
      "Olá mundo!\n",
      "Olá mundo!\n"
     ]
    }
   ],
   "source": [
    "for i=1:10\n",
    "    println(\"Olá mundo!\")\n",
    "end"
   ]
  },
  {
   "cell_type": "code",
   "execution_count": 5,
   "metadata": {},
   "outputs": [
    {
     "name": "stdout",
     "output_type": "stream",
     "text": [
      "Olá mundo, 1\n",
      "Olá mundo, 2\n",
      "Olá mundo, 3\n",
      "Olá mundo, 4\n",
      "Olá mundo, 5\n",
      "Olá mundo, 6\n",
      "Olá mundo, 7\n",
      "Olá mundo, 8\n",
      "Olá mundo, 9\n",
      "Olá mundo, 10\n"
     ]
    }
   ],
   "source": [
    "for i=1:10\n",
    "    println(\"Olá mundo, $(i)\")\n",
    "end"
   ]
  },
  {
   "cell_type": "code",
   "execution_count": 6,
   "metadata": {},
   "outputs": [
    {
     "name": "stdout",
     "output_type": "stream",
     "text": [
      "Estamos executando a repetição, 1\n",
      "Na instrução 1 podemos executar várias coisas\n",
      "Aqui, estamos dentro da repetição 1 e executando uma outra repetição 1\n",
      "Aqui, estamos dentro da repetição 1 e executando uma outra repetição 2\n",
      "Aqui, estamos dentro da repetição 1 e executando uma outra repetição 3\n",
      "Aqui, estamos dentro da repetição 1 e executando uma outra repetição 4\n",
      "Aqui, estamos dentro da repetição 1 e executando uma outra repetição 5\n",
      "Estamos executando a repetição, 2\n",
      "Na instrução 2 podemos executar várias coisas\n",
      "Aqui, estamos dentro da repetição 2 e executando uma outra repetição 1\n",
      "Aqui, estamos dentro da repetição 2 e executando uma outra repetição 2\n",
      "Aqui, estamos dentro da repetição 2 e executando uma outra repetição 3\n",
      "Aqui, estamos dentro da repetição 2 e executando uma outra repetição 4\n",
      "Aqui, estamos dentro da repetição 2 e executando uma outra repetição 5\n",
      "Estamos executando a repetição, 3\n",
      "Na instrução 3 podemos executar várias coisas\n",
      "Aqui, estamos dentro da repetição 3 e executando uma outra repetição 1\n",
      "Aqui, estamos dentro da repetição 3 e executando uma outra repetição 2\n",
      "Aqui, estamos dentro da repetição 3 e executando uma outra repetição 3\n",
      "Aqui, estamos dentro da repetição 3 e executando uma outra repetição 4\n",
      "Aqui, estamos dentro da repetição 3 e executando uma outra repetição 5\n",
      "Estamos executando a repetição, 4\n",
      "Na instrução 4 podemos executar várias coisas\n",
      "Aqui, estamos dentro da repetição 4 e executando uma outra repetição 1\n",
      "Aqui, estamos dentro da repetição 4 e executando uma outra repetição 2\n",
      "Aqui, estamos dentro da repetição 4 e executando uma outra repetição 3\n",
      "Aqui, estamos dentro da repetição 4 e executando uma outra repetição 4\n",
      "Aqui, estamos dentro da repetição 4 e executando uma outra repetição 5\n",
      "Estamos executando a repetição, 5\n",
      "Na instrução 5 podemos executar várias coisas\n",
      "Aqui, estamos dentro da repetição 5 e executando uma outra repetição 1\n",
      "Aqui, estamos dentro da repetição 5 e executando uma outra repetição 2\n",
      "Aqui, estamos dentro da repetição 5 e executando uma outra repetição 3\n",
      "Aqui, estamos dentro da repetição 5 e executando uma outra repetição 4\n",
      "Aqui, estamos dentro da repetição 5 e executando uma outra repetição 5\n",
      "Estamos executando a repetição, 6\n",
      "Na instrução 6 podemos executar várias coisas\n",
      "Aqui, estamos dentro da repetição 6 e executando uma outra repetição 1\n",
      "Aqui, estamos dentro da repetição 6 e executando uma outra repetição 2\n",
      "Aqui, estamos dentro da repetição 6 e executando uma outra repetição 3\n",
      "Aqui, estamos dentro da repetição 6 e executando uma outra repetição 4\n",
      "Aqui, estamos dentro da repetição 6 e executando uma outra repetição 5\n",
      "Estamos executando a repetição, 7\n",
      "Na instrução 7 podemos executar várias coisas\n",
      "Aqui, estamos dentro da repetição 7 e executando uma outra repetição 1\n",
      "Aqui, estamos dentro da repetição 7 e executando uma outra repetição 2\n",
      "Aqui, estamos dentro da repetição 7 e executando uma outra repetição 3\n",
      "Aqui, estamos dentro da repetição 7 e executando uma outra repetição 4\n",
      "Aqui, estamos dentro da repetição 7 e executando uma outra repetição 5\n",
      "Estamos executando a repetição, 8\n",
      "Na instrução 8 podemos executar várias coisas\n",
      "Aqui, estamos dentro da repetição 8 e executando uma outra repetição 1\n",
      "Aqui, estamos dentro da repetição 8 e executando uma outra repetição 2\n",
      "Aqui, estamos dentro da repetição 8 e executando uma outra repetição 3\n",
      "Aqui, estamos dentro da repetição 8 e executando uma outra repetição 4\n",
      "Aqui, estamos dentro da repetição 8 e executando uma outra repetição 5\n",
      "Estamos executando a repetição, 9\n",
      "Na instrução 9 podemos executar várias coisas\n",
      "Aqui, estamos dentro da repetição 9 e executando uma outra repetição 1\n",
      "Aqui, estamos dentro da repetição 9 e executando uma outra repetição 2\n",
      "Aqui, estamos dentro da repetição 9 e executando uma outra repetição 3\n",
      "Aqui, estamos dentro da repetição 9 e executando uma outra repetição 4\n",
      "Aqui, estamos dentro da repetição 9 e executando uma outra repetição 5\n",
      "Estamos executando a repetição, 10\n",
      "Na instrução 10 podemos executar várias coisas\n",
      "Aqui, estamos dentro da repetição 10 e executando uma outra repetição 1\n",
      "Aqui, estamos dentro da repetição 10 e executando uma outra repetição 2\n",
      "Aqui, estamos dentro da repetição 10 e executando uma outra repetição 3\n",
      "Aqui, estamos dentro da repetição 10 e executando uma outra repetição 4\n",
      "Aqui, estamos dentro da repetição 10 e executando uma outra repetição 5\n"
     ]
    }
   ],
   "source": [
    "for i=1:10\n",
    "    println(\"Estamos executando a repetição, $(i)\")\n",
    "    println(\"Na instrução $(i) podemos executar várias coisas\")\n",
    "    for j=1:5\n",
    "        println(\"Aqui, estamos dentro da repetição $(i) e executando uma outra repetição $(j)\")\n",
    "    end\n",
    "end\n"
   ]
  },
  {
   "cell_type": "code",
   "execution_count": 61,
   "metadata": {},
   "outputs": [
    {
     "name": "stdout",
     "output_type": "stream",
     "text": [
      "Estamos executando a repetição, 10\n",
      "Na instrução 10 podemos executar várias coisas\n",
      "Aqui, estamos dentro da repetição 10 e executando uma outra repetição 1\n",
      "Aqui, estamos dentro da repetição 10 e executando uma outra repetição 3\n",
      "Aqui, estamos dentro da repetição 10 e executando uma outra repetição 5\n",
      "Estamos executando a repetição, 9\n",
      "Na instrução 9 podemos executar várias coisas\n",
      "Aqui, estamos dentro da repetição 9 e executando uma outra repetição 1\n",
      "Aqui, estamos dentro da repetição 9 e executando uma outra repetição 3\n",
      "Aqui, estamos dentro da repetição 9 e executando uma outra repetição 5\n",
      "Estamos executando a repetição, 8\n",
      "Na instrução 8 podemos executar várias coisas\n",
      "Aqui, estamos dentro da repetição 8 e executando uma outra repetição 1\n",
      "Aqui, estamos dentro da repetição 8 e executando uma outra repetição 3\n",
      "Aqui, estamos dentro da repetição 8 e executando uma outra repetição 5\n",
      "Estamos executando a repetição, 7\n",
      "Na instrução 7 podemos executar várias coisas\n",
      "Aqui, estamos dentro da repetição 7 e executando uma outra repetição 1\n",
      "Aqui, estamos dentro da repetição 7 e executando uma outra repetição 3\n",
      "Aqui, estamos dentro da repetição 7 e executando uma outra repetição 5\n",
      "Estamos executando a repetição, 6\n",
      "Na instrução 6 podemos executar várias coisas\n",
      "Aqui, estamos dentro da repetição 6 e executando uma outra repetição 1\n",
      "Aqui, estamos dentro da repetição 6 e executando uma outra repetição 3\n",
      "Aqui, estamos dentro da repetição 6 e executando uma outra repetição 5\n",
      "Estamos executando a repetição, 5\n",
      "Na instrução 5 podemos executar várias coisas\n",
      "Aqui, estamos dentro da repetição 5 e executando uma outra repetição 1\n",
      "Aqui, estamos dentro da repetição 5 e executando uma outra repetição 3\n",
      "Aqui, estamos dentro da repetição 5 e executando uma outra repetição 5\n",
      "Estamos executando a repetição, 4\n",
      "Na instrução 4 podemos executar várias coisas\n",
      "Aqui, estamos dentro da repetição 4 e executando uma outra repetição 1\n",
      "Aqui, estamos dentro da repetição 4 e executando uma outra repetição 3\n",
      "Aqui, estamos dentro da repetição 4 e executando uma outra repetição 5\n",
      "Estamos executando a repetição, 3\n",
      "Na instrução 3 podemos executar várias coisas\n",
      "Aqui, estamos dentro da repetição 3 e executando uma outra repetição 1\n",
      "Aqui, estamos dentro da repetição 3 e executando uma outra repetição 3\n",
      "Aqui, estamos dentro da repetição 3 e executando uma outra repetição 5\n",
      "Estamos executando a repetição, 2\n",
      "Na instrução 2 podemos executar várias coisas\n",
      "Aqui, estamos dentro da repetição 2 e executando uma outra repetição 1\n",
      "Aqui, estamos dentro da repetição 2 e executando uma outra repetição 3\n",
      "Aqui, estamos dentro da repetição 2 e executando uma outra repetição 5\n",
      "Estamos executando a repetição, 1\n",
      "Na instrução 1 podemos executar várias coisas\n",
      "Aqui, estamos dentro da repetição 1 e executando uma outra repetição 1\n",
      "Aqui, estamos dentro da repetição 1 e executando uma outra repetição 3\n",
      "Aqui, estamos dentro da repetição 1 e executando uma outra repetição 5\n"
     ]
    }
   ],
   "source": [
    "for i=10:-1:1\n",
    "    println(\"Estamos executando a repetição, $(i)\")\n",
    "    println(\"Na instrução $(i) podemos executar várias coisas\")\n",
    "    for j=1:2:6\n",
    "        println(\"Aqui, estamos dentro da repetição $(i) e executando uma outra repetição $(j)\")\n",
    "    end\n",
    "end\n"
   ]
  },
  {
   "attachments": {},
   "cell_type": "markdown",
   "metadata": {},
   "source": [
    "# Exercícios\n",
    "\n",
    "1. Implemente uma função para cálcular o fatorial de um número natural.\n",
    "1. Implemente a soma parcial da série de Leibniz: $\\sum_{k=1}^{n}\\dfrac{(-1)^{k+1}4}{2k - 1}$\n",
    "1. Implemente a soma parcial da série de Nilakantha: $3+\\sum_{k=1}^n\\dfrac{(-1)^{k+1}4}{(2k)(2k+1)(2k+2)}$\n",
    "1. Implemente a soma parcial da série de Ramanujan: $\\dfrac{1}{\\frac{2\\sqrt{2}}{9801}\\sum_{k=0}^n \\dfrac{(4k)! (1103 + 26390k)}{(k!)^4 396^{4k}}}$"
   ]
  }
 ],
 "metadata": {
  "kernelspec": {
   "display_name": "Julia 1.9.1",
   "language": "julia",
   "name": "julia-1.9"
  },
  "language_info": {
   "file_extension": ".jl",
   "mimetype": "application/julia",
   "name": "julia",
   "version": "1.9.1"
  }
 },
 "nbformat": 4,
 "nbformat_minor": 1
}
